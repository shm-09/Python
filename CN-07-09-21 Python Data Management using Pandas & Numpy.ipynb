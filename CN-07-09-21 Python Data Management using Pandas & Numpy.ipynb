{
 "cells": [
  {
   "cell_type": "code",
   "execution_count": 1,
   "id": "18cef7d3",
   "metadata": {},
   "outputs": [],
   "source": [
    "import pandas as pd\n",
    "import numpy as np"
   ]
  },
  {
   "cell_type": "code",
   "execution_count": 2,
   "id": "54d2b1ff",
   "metadata": {},
   "outputs": [],
   "source": [
    "data = pd.read_csv(\"C:/Users/shrey/Downloads/Book1.csv\")"
   ]
  },
  {
   "cell_type": "code",
   "execution_count": 3,
   "id": "e008963c",
   "metadata": {
    "scrolled": true
   },
   "outputs": [
    {
     "data": {
      "text/html": [
       "<div>\n",
       "<style scoped>\n",
       "    .dataframe tbody tr th:only-of-type {\n",
       "        vertical-align: middle;\n",
       "    }\n",
       "\n",
       "    .dataframe tbody tr th {\n",
       "        vertical-align: top;\n",
       "    }\n",
       "\n",
       "    .dataframe thead th {\n",
       "        text-align: right;\n",
       "    }\n",
       "</style>\n",
       "<table border=\"1\" class=\"dataframe\">\n",
       "  <thead>\n",
       "    <tr style=\"text-align: right;\">\n",
       "      <th></th>\n",
       "      <th>customerID</th>\n",
       "      <th>tenure</th>\n",
       "      <th>PhoneService</th>\n",
       "      <th>Contract</th>\n",
       "      <th>PaperlessBilling</th>\n",
       "      <th>PaymentMethod</th>\n",
       "      <th>MonthlyCharges</th>\n",
       "      <th>TotalCharges</th>\n",
       "      <th>Churn</th>\n",
       "    </tr>\n",
       "  </thead>\n",
       "  <tbody>\n",
       "    <tr>\n",
       "      <th>0</th>\n",
       "      <td>7590-VHVEG</td>\n",
       "      <td>1</td>\n",
       "      <td>No</td>\n",
       "      <td>Month-to-month</td>\n",
       "      <td>Yes</td>\n",
       "      <td>Electronic check</td>\n",
       "      <td>29.85</td>\n",
       "      <td>29.85</td>\n",
       "      <td>No</td>\n",
       "    </tr>\n",
       "    <tr>\n",
       "      <th>1</th>\n",
       "      <td>5575-GNVDE</td>\n",
       "      <td>34</td>\n",
       "      <td>Yes</td>\n",
       "      <td>One year</td>\n",
       "      <td>No</td>\n",
       "      <td>Mailed check</td>\n",
       "      <td>56.95</td>\n",
       "      <td>1889.5</td>\n",
       "      <td>No</td>\n",
       "    </tr>\n",
       "    <tr>\n",
       "      <th>2</th>\n",
       "      <td>3668-QPYBK</td>\n",
       "      <td>2</td>\n",
       "      <td>Yes</td>\n",
       "      <td>Month-to-month</td>\n",
       "      <td>Yes</td>\n",
       "      <td>Mailed check</td>\n",
       "      <td>53.85</td>\n",
       "      <td>108.15</td>\n",
       "      <td>Yes</td>\n",
       "    </tr>\n",
       "    <tr>\n",
       "      <th>3</th>\n",
       "      <td>7795-CFOCW</td>\n",
       "      <td>45</td>\n",
       "      <td>No</td>\n",
       "      <td>One year</td>\n",
       "      <td>No</td>\n",
       "      <td>Bank transfer (automatic)</td>\n",
       "      <td>42.30</td>\n",
       "      <td>1840.75</td>\n",
       "      <td>No</td>\n",
       "    </tr>\n",
       "    <tr>\n",
       "      <th>4</th>\n",
       "      <td>9237-HQITU</td>\n",
       "      <td>2</td>\n",
       "      <td>Yes</td>\n",
       "      <td>Month-to-month</td>\n",
       "      <td>Yes</td>\n",
       "      <td>Electronic check</td>\n",
       "      <td>70.70</td>\n",
       "      <td>151.65</td>\n",
       "      <td>Yes</td>\n",
       "    </tr>\n",
       "    <tr>\n",
       "      <th>...</th>\n",
       "      <td>...</td>\n",
       "      <td>...</td>\n",
       "      <td>...</td>\n",
       "      <td>...</td>\n",
       "      <td>...</td>\n",
       "      <td>...</td>\n",
       "      <td>...</td>\n",
       "      <td>...</td>\n",
       "      <td>...</td>\n",
       "    </tr>\n",
       "    <tr>\n",
       "      <th>7037</th>\n",
       "      <td>2569-WGERO</td>\n",
       "      <td>72</td>\n",
       "      <td>Yes</td>\n",
       "      <td>Two year</td>\n",
       "      <td>Yes</td>\n",
       "      <td>Bank transfer (automatic)</td>\n",
       "      <td>21.15</td>\n",
       "      <td>1419.4</td>\n",
       "      <td>No</td>\n",
       "    </tr>\n",
       "    <tr>\n",
       "      <th>7038</th>\n",
       "      <td>6840-RESVB</td>\n",
       "      <td>24</td>\n",
       "      <td>Yes</td>\n",
       "      <td>One year</td>\n",
       "      <td>Yes</td>\n",
       "      <td>Mailed check</td>\n",
       "      <td>84.80</td>\n",
       "      <td>1990.5</td>\n",
       "      <td>No</td>\n",
       "    </tr>\n",
       "    <tr>\n",
       "      <th>7039</th>\n",
       "      <td>2234-XADUH</td>\n",
       "      <td>72</td>\n",
       "      <td>Yes</td>\n",
       "      <td>One year</td>\n",
       "      <td>Yes</td>\n",
       "      <td>Credit card (automatic)</td>\n",
       "      <td>103.20</td>\n",
       "      <td>7362.9</td>\n",
       "      <td>No</td>\n",
       "    </tr>\n",
       "    <tr>\n",
       "      <th>7040</th>\n",
       "      <td>4801-JZAZL</td>\n",
       "      <td>11</td>\n",
       "      <td>No</td>\n",
       "      <td>Month-to-month</td>\n",
       "      <td>Yes</td>\n",
       "      <td>Electronic check</td>\n",
       "      <td>29.60</td>\n",
       "      <td>346.45</td>\n",
       "      <td>No</td>\n",
       "    </tr>\n",
       "    <tr>\n",
       "      <th>7041</th>\n",
       "      <td>8361-LTMKD</td>\n",
       "      <td>4</td>\n",
       "      <td>Yes</td>\n",
       "      <td>Month-to-month</td>\n",
       "      <td>Yes</td>\n",
       "      <td>Mailed check</td>\n",
       "      <td>74.40</td>\n",
       "      <td>306.6</td>\n",
       "      <td>Yes</td>\n",
       "    </tr>\n",
       "  </tbody>\n",
       "</table>\n",
       "<p>7042 rows × 9 columns</p>\n",
       "</div>"
      ],
      "text/plain": [
       "      customerID  tenure PhoneService        Contract PaperlessBilling  \\\n",
       "0     7590-VHVEG       1           No  Month-to-month              Yes   \n",
       "1     5575-GNVDE      34          Yes        One year               No   \n",
       "2     3668-QPYBK       2          Yes  Month-to-month              Yes   \n",
       "3     7795-CFOCW      45           No        One year               No   \n",
       "4     9237-HQITU       2          Yes  Month-to-month              Yes   \n",
       "...          ...     ...          ...             ...              ...   \n",
       "7037  2569-WGERO      72          Yes        Two year              Yes   \n",
       "7038  6840-RESVB      24          Yes        One year              Yes   \n",
       "7039  2234-XADUH      72          Yes        One year              Yes   \n",
       "7040  4801-JZAZL      11           No  Month-to-month              Yes   \n",
       "7041  8361-LTMKD       4          Yes  Month-to-month              Yes   \n",
       "\n",
       "                  PaymentMethod  MonthlyCharges TotalCharges Churn  \n",
       "0              Electronic check           29.85        29.85    No  \n",
       "1                  Mailed check           56.95       1889.5    No  \n",
       "2                  Mailed check           53.85       108.15   Yes  \n",
       "3     Bank transfer (automatic)           42.30      1840.75    No  \n",
       "4              Electronic check           70.70       151.65   Yes  \n",
       "...                         ...             ...          ...   ...  \n",
       "7037  Bank transfer (automatic)           21.15       1419.4    No  \n",
       "7038               Mailed check           84.80       1990.5    No  \n",
       "7039    Credit card (automatic)          103.20       7362.9    No  \n",
       "7040           Electronic check           29.60       346.45    No  \n",
       "7041               Mailed check           74.40        306.6   Yes  \n",
       "\n",
       "[7042 rows x 9 columns]"
      ]
     },
     "execution_count": 3,
     "metadata": {},
     "output_type": "execute_result"
    }
   ],
   "source": [
    "data"
   ]
  },
  {
   "cell_type": "code",
   "execution_count": 4,
   "id": "8e0145b5",
   "metadata": {},
   "outputs": [],
   "source": [
    "mean_mc = data[\"MonthlyCharges\"].mean()\n",
    "sum_mc = data[\"MonthlyCharges\"].sum()\n",
    "max_mc = data[\"MonthlyCharges\"].max()\n",
    "min_mc = data[\"MonthlyCharges\"].min()\n",
    "count_mc = data[\"MonthlyCharges\"].count()\n",
    "median_mc = data[\"MonthlyCharges\"].median() \n",
    "std_mc = data[\"MonthlyCharges\"].std() \n",
    "var_mc = data[\"MonthlyCharges\"].var()"
   ]
  },
  {
   "cell_type": "code",
   "execution_count": 5,
   "id": "a988a86d",
   "metadata": {},
   "outputs": [
    {
     "name": "stdout",
     "output_type": "stream",
     "text": [
      "Mean: 64.75588611190007\n",
      "Mean: 64.75588611190007\n"
     ]
    }
   ],
   "source": [
    "print(\"Mean: {}\".format(mean_mc))\n",
    "print(\"Mean:\",mean_mc)"
   ]
  },
  {
   "cell_type": "code",
   "execution_count": 6,
   "id": "15e907ae",
   "metadata": {},
   "outputs": [
    {
     "name": "stdout",
     "output_type": "stream",
     "text": [
      "Mean: 64.75588611190007\n",
      "Sum: 456010.95\n",
      "Max: 118.75\n",
      "Min: 18.25\n",
      "Count: 7042\n",
      "Median: 70.35\n",
      "Std Dev: 30.088237674782235\n",
      "Variance: 905.302046374185\n",
      "Mean: 64.75588611190007 Max\n"
     ]
    }
   ],
   "source": [
    "print(\"Mean: {}\".format(mean_mc))\n",
    "print(\"Sum: {}\".format(sum_mc))\n",
    "print(\"Max: {}\".format(max_mc))\n",
    "print(\"Min: {}\".format(min_mc))\n",
    "print(\"Count: {}\".format(count_mc))\n",
    "print(\"Median: {}\".format(median_mc))\n",
    "print(\"Std Dev: {}\".format(std_mc))\n",
    "print(\"Variance: {}\".format(var_mc))\n",
    "print(\"Mean: \" + str(mean_mc) + \" Max\")"
   ]
  },
  {
   "cell_type": "code",
   "execution_count": 20,
   "id": "88c43c10",
   "metadata": {},
   "outputs": [
    {
     "data": {
      "text/plain": [
       "7042"
      ]
     },
     "execution_count": 20,
     "metadata": {},
     "output_type": "execute_result"
    }
   ],
   "source": [
    "count_pm = data[\"PaymentMethod\"].count()\n",
    "count_pm"
   ]
  },
  {
   "cell_type": "code",
   "execution_count": 21,
   "id": "e92b6f72",
   "metadata": {},
   "outputs": [
    {
     "data": {
      "text/html": [
       "<div>\n",
       "<style scoped>\n",
       "    .dataframe tbody tr th:only-of-type {\n",
       "        vertical-align: middle;\n",
       "    }\n",
       "\n",
       "    .dataframe tbody tr th {\n",
       "        vertical-align: top;\n",
       "    }\n",
       "\n",
       "    .dataframe thead th {\n",
       "        text-align: right;\n",
       "    }\n",
       "</style>\n",
       "<table border=\"1\" class=\"dataframe\">\n",
       "  <thead>\n",
       "    <tr style=\"text-align: right;\">\n",
       "      <th></th>\n",
       "      <th>customerID</th>\n",
       "      <th>tenure</th>\n",
       "      <th>PhoneService</th>\n",
       "      <th>Contract</th>\n",
       "      <th>PaperlessBilling</th>\n",
       "      <th>MonthlyCharges</th>\n",
       "      <th>TotalCharges</th>\n",
       "      <th>Churn</th>\n",
       "    </tr>\n",
       "    <tr>\n",
       "      <th>PaymentMethod</th>\n",
       "      <th></th>\n",
       "      <th></th>\n",
       "      <th></th>\n",
       "      <th></th>\n",
       "      <th></th>\n",
       "      <th></th>\n",
       "      <th></th>\n",
       "      <th></th>\n",
       "    </tr>\n",
       "  </thead>\n",
       "  <tbody>\n",
       "    <tr>\n",
       "      <th>Bank transfer (automatic)</th>\n",
       "      <td>1543</td>\n",
       "      <td>1543</td>\n",
       "      <td>1543</td>\n",
       "      <td>1543</td>\n",
       "      <td>1543</td>\n",
       "      <td>1543</td>\n",
       "      <td>1543</td>\n",
       "      <td>1543</td>\n",
       "    </tr>\n",
       "    <tr>\n",
       "      <th>Credit card (automatic)</th>\n",
       "      <td>1522</td>\n",
       "      <td>1522</td>\n",
       "      <td>1522</td>\n",
       "      <td>1522</td>\n",
       "      <td>1522</td>\n",
       "      <td>1522</td>\n",
       "      <td>1522</td>\n",
       "      <td>1522</td>\n",
       "    </tr>\n",
       "    <tr>\n",
       "      <th>Electronic check</th>\n",
       "      <td>2365</td>\n",
       "      <td>2365</td>\n",
       "      <td>2365</td>\n",
       "      <td>2365</td>\n",
       "      <td>2365</td>\n",
       "      <td>2365</td>\n",
       "      <td>2365</td>\n",
       "      <td>2365</td>\n",
       "    </tr>\n",
       "    <tr>\n",
       "      <th>Mailed check</th>\n",
       "      <td>1612</td>\n",
       "      <td>1612</td>\n",
       "      <td>1612</td>\n",
       "      <td>1612</td>\n",
       "      <td>1612</td>\n",
       "      <td>1612</td>\n",
       "      <td>1612</td>\n",
       "      <td>1612</td>\n",
       "    </tr>\n",
       "  </tbody>\n",
       "</table>\n",
       "</div>"
      ],
      "text/plain": [
       "                           customerID  tenure  PhoneService  Contract  \\\n",
       "PaymentMethod                                                           \n",
       "Bank transfer (automatic)        1543    1543          1543      1543   \n",
       "Credit card (automatic)          1522    1522          1522      1522   \n",
       "Electronic check                 2365    2365          2365      2365   \n",
       "Mailed check                     1612    1612          1612      1612   \n",
       "\n",
       "                           PaperlessBilling  MonthlyCharges  TotalCharges  \\\n",
       "PaymentMethod                                                               \n",
       "Bank transfer (automatic)              1543            1543          1543   \n",
       "Credit card (automatic)                1522            1522          1522   \n",
       "Electronic check                       2365            2365          2365   \n",
       "Mailed check                           1612            1612          1612   \n",
       "\n",
       "                           Churn  \n",
       "PaymentMethod                     \n",
       "Bank transfer (automatic)   1543  \n",
       "Credit card (automatic)     1522  \n",
       "Electronic check            2365  \n",
       "Mailed check                1612  "
      ]
     },
     "execution_count": 21,
     "metadata": {},
     "output_type": "execute_result"
    }
   ],
   "source": [
    "groupby_pm = data.groupby([\"PaymentMethod\"]).count()\n",
    "groupby_pm"
   ]
  },
  {
   "cell_type": "code",
   "execution_count": 9,
   "id": "549c52a3",
   "metadata": {},
   "outputs": [
    {
     "name": "stdout",
     "output_type": "stream",
     "text": [
      "                           customerID  tenure  PhoneService  Contract  \\\n",
      "PaymentMethod                                                           \n",
      "Bank transfer (automatic)        1543    1543          1543      1543   \n",
      "Credit card (automatic)          1522    1522          1522      1522   \n",
      "Electronic check                 2365    2365          2365      2365   \n",
      "Mailed check                     1612    1612          1612      1612   \n",
      "\n",
      "                           PaperlessBilling  MonthlyCharges  TotalCharges  \\\n",
      "PaymentMethod                                                               \n",
      "Bank transfer (automatic)              1543            1543          1543   \n",
      "Credit card (automatic)                1522            1522          1522   \n",
      "Electronic check                       2365            2365          2365   \n",
      "Mailed check                           1612            1612          1612   \n",
      "\n",
      "                           Churn  \n",
      "PaymentMethod                     \n",
      "Bank transfer (automatic)   1543  \n",
      "Credit card (automatic)     1522  \n",
      "Electronic check            2365  \n",
      "Mailed check                1612  \n"
     ]
    }
   ],
   "source": [
    "print(groupby_pm)"
   ]
  },
  {
   "cell_type": "code",
   "execution_count": 10,
   "id": "6dfc1024",
   "metadata": {},
   "outputs": [
    {
     "name": "stdout",
     "output_type": "stream",
     "text": [
      "7042\n"
     ]
    }
   ],
   "source": [
    "print(count_pm)"
   ]
  },
  {
   "cell_type": "code",
   "execution_count": 11,
   "id": "41baea60",
   "metadata": {},
   "outputs": [],
   "source": [
    "meanx = np.mean(data[\"MonthlyCharges\"])"
   ]
  },
  {
   "cell_type": "code",
   "execution_count": 12,
   "id": "97668582",
   "metadata": {},
   "outputs": [
    {
     "data": {
      "text/plain": [
       "64.75588611190007"
      ]
     },
     "execution_count": 12,
     "metadata": {},
     "output_type": "execute_result"
    }
   ],
   "source": [
    "meanx"
   ]
  },
  {
   "cell_type": "code",
   "execution_count": 13,
   "id": "85b703b4",
   "metadata": {},
   "outputs": [
    {
     "name": "stdout",
     "output_type": "stream",
     "text": [
      "name,mfr,type,calories,protein,fat,sodium,fiber,carbo,sugars,potass,vitamins,shelf,weight,cups,rating\n",
      "\n",
      "100% Bran,N,C,70,4,1,130,10,5,6,280,25,3,1,0.33,68.402973\n",
      "\n",
      "100% Natural Bran,Q,C,120,3,5,15,2,8,8,135,0,3,1,1,33.983679\n",
      "\n",
      "All-Bran,K,C,70,4,1,260,9,7,5,320,25,3,1,0.33,59.425505\n",
      "\n",
      "All-Bran with Extra Fiber,K,C,50,4,0,140,14,8,0,330,25,3,1,0.5,93.704912\n",
      "\n",
      "Almond Delight,R,C,110,2,2,200,1,14,8,-1,25,3,1,0.75,34.384843\n",
      "\n",
      "Apple Cinnamon Cheerios,G,C,110,2,2,180,1.5,10.5,10,70,25,1,1,0.75,29.509541\n",
      "\n",
      "Apple Jacks,K,C,110,2,0,125,1,11,14,30,25,2,1,1,33.174094\n",
      "\n",
      "Basic 4,G,C,130,3,2,210,2,18,8,100,25,3,1.33,0.75,37.038562\n",
      "\n",
      "Bran Chex,R,C,90,2,1,200,4,15,6,125,25,1,1,0.67,49.120253\n",
      "\n",
      "Bran Flakes,P,C,90,3,0,210,5,13,5,190,25,3,1,0.67,53.313813\n",
      "\n",
      "Cap'n'Crunch,Q,C,120,1,2,220,0,12,12,35,25,2,1,0.75,18.042851\n",
      "\n",
      "Cheerios,G,C,110,6,2,290,2,17,1,105,25,1,1,1.25,50.764999\n",
      "\n",
      "Cinnamon Toast Crunch,G,C,120,1,3,210,0,13,9,45,25,2,1,0.75,19.823573\n",
      "\n",
      "Clusters,G,C,110,3,2,140,2,13,7,105,25,3,1,0.5,40.400208\n",
      "\n",
      "Cocoa Puffs,G,C,110,1,1,180,0,12,13,55,25,2,1,1,22.736446\n",
      "\n",
      "Corn Chex,R,C,110,2,0,280,0,22,3,25,25,1,1,1,41.445019\n",
      "\n",
      "Corn Flakes,K,C,100,2,0,290,1,21,2,35,25,1,1,1,45.863324\n",
      "\n",
      "Corn Pops,K,C,110,1,0,90,1,13,12,20,25,2,1,1,35.782791\n",
      "\n",
      "Count Chocula,G,C,110,1,1,180,0,12,13,65,25,2,1,1,22.396513\n",
      "\n",
      "Cracklin' Oat Bran,K,C,110,3,3,140,4,10,7,160,25,3,1,0.5,40.448772\n",
      "\n",
      "Cream of Wheat (Quick),N,H,100,3,0,80,1,21,0,-1,0,2,1,1,64.533816\n",
      "\n",
      "Crispix,K,C,110,2,0,220,1,21,3,30,25,3,1,1,46.895644\n",
      "\n",
      "Crispy Wheat & Raisins,G,C,100,2,1,140,2,11,10,120,25,3,1,0.75,36.176196\n",
      "\n",
      "Double Chex,R,C,100,2,0,190,1,18,5,80,25,3,1,0.75,44.330856\n",
      "\n",
      "Froot Loops,K,C,110,2,1,125,1,11,13,30,25,2,1,1,32.207582\n",
      "\n",
      "Frosted Flakes,K,C,110,1,0,200,1,14,11,25,25,1,1,0.75,31.435973\n",
      "\n",
      "Frosted Mini-Wheats,K,C,100,3,0,0,3,14,7,100,25,2,1,0.8,58.345141\n",
      "\n",
      "Fruit & Fibre Dates; Walnuts; and Oats,P,C,120,3,2,160,5,12,10,200,25,3,1.25,0.67,40.917047\n",
      "\n",
      "Fruitful Bran,K,C,120,3,0,240,5,14,12,190,25,3,1.33,0.67,41.015492\n",
      "\n",
      "Fruity Pebbles,P,C,110,1,1,135,0,13,12,25,25,2,1,0.75,28.025765\n",
      "\n",
      "Golden Crisp,P,C,100,2,0,45,0,11,15,40,25,1,1,0.88,35.252444\n",
      "\n",
      "Golden Grahams,G,C,110,1,1,280,0,15,9,45,25,2,1,0.75,23.804043\n",
      "\n",
      "Grape Nuts Flakes,P,C,100,3,1,140,3,15,5,85,25,3,1,0.88,52.076897\n",
      "\n",
      "Grape-Nuts,P,C,110,3,0,170,3,17,3,90,25,3,1,0.25,53.371007\n",
      "\n",
      "Great Grains Pecan,P,C,120,3,3,75,3,13,4,100,25,3,1,0.33,45.811716\n",
      "\n",
      "Honey Graham Ohs,Q,C,120,1,2,220,1,12,11,45,25,2,1,1,21.871292\n",
      "\n",
      "Honey Nut Cheerios,G,C,110,3,1,250,1.5,11.5,10,90,25,1,1,0.75,31.072217\n",
      "\n",
      "Honey-comb,P,C,110,1,0,180,0,14,11,35,25,1,1,1.33,28.742414\n",
      "\n",
      "Just Right Crunchy  Nuggets,K,C,110,2,1,170,1,17,6,60,100,3,1,1,36.523683\n",
      "\n",
      "Just Right Fruit & Nut,K,C,140,3,1,170,2,20,9,95,100,3,1.3,0.75,36.471512\n",
      "\n",
      "Kix,G,C,110,2,1,260,0,21,3,40,25,2,1,1.5,39.241114\n",
      "\n",
      "Life,Q,C,100,4,2,150,2,12,6,95,25,2,1,0.67,45.328074\n",
      "\n",
      "Lucky Charms,G,C,110,2,1,180,0,12,12,55,25,2,1,1,26.734515\n",
      "\n",
      "Maypo,A,H,100,4,1,0,0,16,3,95,25,2,1,1,54.850917\n",
      "\n",
      "Muesli Raisins; Dates; & Almonds,R,C,150,4,3,95,3,16,11,170,25,3,1,1,37.136863\n",
      "\n",
      "Muesli Raisins; Peaches; & Pecans,R,C,150,4,3,150,3,16,11,170,25,3,1,1,34.139765\n",
      "\n",
      "Mueslix Crispy Blend,K,C,160,3,2,150,3,17,13,160,25,3,1.5,0.67,30.313351\n",
      "\n",
      "Multi-Grain Cheerios,G,C,100,2,1,220,2,15,6,90,25,1,1,1,40.105965\n",
      "\n",
      "Nut&Honey Crunch,K,C,120,2,1,190,0,15,9,40,25,2,1,0.67,29.924285\n",
      "\n",
      "Nutri-Grain Almond-Raisin,K,C,140,3,2,220,3,21,7,130,25,3,1.33,0.67,40.692320\n",
      "\n",
      "Nutri-grain Wheat,K,C,90,3,0,170,3,18,2,90,25,3,1,1,59.642837\n",
      "\n",
      "Oatmeal Raisin Crisp,G,C,130,3,2,170,1.5,13.5,10,120,25,3,1.25,0.5,30.450843\n",
      "\n",
      "Post Nat. Raisin Bran,P,C,120,3,1,200,6,11,14,260,25,3,1.33,0.67,37.840594\n",
      "\n",
      "Product 19,K,C,100,3,0,320,1,20,3,45,100,3,1,1,41.503540\n",
      "\n",
      "Puffed Rice,Q,C,50,1,0,0,0,13,0,15,0,3,0.5,1,60.756112\n",
      "\n",
      "Puffed Wheat,Q,C,50,2,0,0,1,10,0,50,0,3,0.5,1,63.005645\n",
      "\n",
      "Quaker Oat Squares,Q,C,100,4,1,135,2,14,6,110,25,3,1,0.5,49.511874\n",
      "\n",
      "Quaker Oatmeal,Q,H,100,5,2,0,2.7,-1,-1,110,0,1,1,0.67,50.828392\n",
      "\n",
      "Raisin Bran,K,C,120,3,1,210,5,14,12,240,25,2,1.33,0.75,39.259197\n",
      "\n",
      "Raisin Nut Bran,G,C,100,3,2,140,2.5,10.5,8,140,25,3,1,0.5,39.703400\n",
      "\n",
      "Raisin Squares,K,C,90,2,0,0,2,15,6,110,25,3,1,0.5,55.333142\n",
      "\n",
      "Rice Chex,R,C,110,1,0,240,0,23,2,30,25,1,1,1.13,41.998933\n",
      "\n",
      "Rice Krispies,K,C,110,2,0,290,0,22,3,35,25,1,1,1,40.560159\n",
      "\n",
      "Shredded Wheat,N,C,80,2,0,0,3,16,0,95,0,1,0.83,1,68.235885\n",
      "\n",
      "Shredded Wheat 'n'Bran,N,C,90,3,0,0,4,19,0,140,0,1,1,0.67,74.472949\n",
      "\n",
      "Shredded Wheat spoon size,N,C,90,3,0,0,3,20,0,120,0,1,1,0.67,72.801787\n",
      "\n",
      "Smacks,K,C,110,2,1,70,1,9,15,40,25,2,1,0.75,31.230054\n",
      "\n",
      "Special K,K,C,110,6,0,230,1,16,3,55,25,1,1,1,53.131324\n",
      "\n",
      "Strawberry Fruit Wheats,N,C,90,2,0,15,3,15,5,90,25,2,1,1,59.363993\n",
      "\n",
      "Total Corn Flakes,G,C,110,2,1,200,0,21,3,35,100,3,1,1,38.839746\n",
      "\n",
      "Total Raisin Bran,G,C,140,3,1,190,4,15,14,230,100,3,1.5,1,28.592785\n",
      "\n",
      "Total Whole Grain,G,C,100,3,1,200,3,16,3,110,100,3,1,1,46.658844\n",
      "\n",
      "Triples,G,C,110,2,1,250,0,21,3,60,25,3,1,0.75,39.106174\n",
      "\n",
      "Trix,G,C,110,1,1,140,0,13,12,25,25,2,1,1,27.753301\n",
      "\n",
      "Wheat Chex,R,C,100,3,1,230,3,17,3,115,25,1,1,0.67,49.787445\n",
      "\n",
      "Wheaties,G,C,100,3,1,200,3,17,3,110,25,1,1,1,51.592193\n",
      "\n",
      "Wheaties Honey Gold,G,C,110,2,1,200,1,16,8,60,25,1,1,0.75,36.187559\n",
      "\n"
     ]
    }
   ],
   "source": [
    "fd = open('C:/Users/shrey/Downloads/cereal.csv')\n",
    "for name in fd:\n",
    "    print (name)"
   ]
  },
  {
   "cell_type": "code",
   "execution_count": 14,
   "id": "56d8c4b5",
   "metadata": {},
   "outputs": [
    {
     "data": {
      "text/plain": [
       "<_io.TextIOWrapper name='C:/Users/shrey/Downloads/cereal.csv' mode='r' encoding='cp1252'>"
      ]
     },
     "execution_count": 14,
     "metadata": {},
     "output_type": "execute_result"
    }
   ],
   "source": [
    "fd"
   ]
  },
  {
   "cell_type": "code",
   "execution_count": 15,
   "id": "f67df49e",
   "metadata": {},
   "outputs": [
    {
     "name": "stdout",
     "output_type": "stream",
     "text": [
      "<_io.TextIOWrapper name='C:/Users/shrey/Downloads/cereal.csv' mode='r' encoding='cp1252'>\n"
     ]
    }
   ],
   "source": [
    "print(fd)"
   ]
  },
  {
   "cell_type": "code",
   "execution_count": 16,
   "id": "15e7dc0b",
   "metadata": {},
   "outputs": [
    {
     "data": {
      "text/plain": [
       "_io.TextIOWrapper"
      ]
     },
     "execution_count": 16,
     "metadata": {},
     "output_type": "execute_result"
    }
   ],
   "source": [
    "type(fd)"
   ]
  },
  {
   "cell_type": "code",
   "execution_count": 17,
   "id": "1baa7f22",
   "metadata": {},
   "outputs": [],
   "source": [
    "dt = open('C:/Users/shrey/Downloads/cereal.csv')"
   ]
  },
  {
   "cell_type": "code",
   "execution_count": 18,
   "id": "2c4ff0cd",
   "metadata": {},
   "outputs": [
    {
     "data": {
      "text/plain": [
       "<_io.TextIOWrapper name='C:/Users/shrey/Downloads/cereal.csv' mode='r' encoding='cp1252'>"
      ]
     },
     "execution_count": 18,
     "metadata": {},
     "output_type": "execute_result"
    }
   ],
   "source": [
    "dt"
   ]
  },
  {
   "cell_type": "code",
   "execution_count": null,
   "id": "7481d9bc",
   "metadata": {},
   "outputs": [],
   "source": []
  }
 ],
 "metadata": {
  "kernelspec": {
   "display_name": "Python 3",
   "language": "python",
   "name": "python3"
  },
  "language_info": {
   "codemirror_mode": {
    "name": "ipython",
    "version": 3
   },
   "file_extension": ".py",
   "mimetype": "text/x-python",
   "name": "python",
   "nbconvert_exporter": "python",
   "pygments_lexer": "ipython3",
   "version": "3.8.8"
  }
 },
 "nbformat": 4,
 "nbformat_minor": 5
}
