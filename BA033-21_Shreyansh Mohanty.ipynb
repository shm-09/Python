{
 "cells": [
  {
   "cell_type": "markdown",
   "id": "c05d74c2",
   "metadata": {},
   "source": [
    "### Importing xlxs file using open() function"
   ]
  },
  {
   "cell_type": "code",
   "execution_count": 9,
   "id": "4c740d9f",
   "metadata": {},
   "outputs": [],
   "source": [
    "import numpy as np\n",
    "import pandas as pd"
   ]
  },
  {
   "cell_type": "code",
   "execution_count": 7,
   "id": "788c72ec",
   "metadata": {},
   "outputs": [
    {
     "name": "stdout",
     "output_type": "stream",
     "text": [
      "<_io.TextIOWrapper name='C:/Users/shrey/Downloads/Industrial oils.xlsx' mode='r' encoding='cp1252'>\n"
     ]
    }
   ],
   "source": [
    "df = open('C:/Users/shrey/Downloads/Industrial oils.xlsx')\n",
    "print(df)"
   ]
  },
  {
   "cell_type": "code",
   "execution_count": 11,
   "id": "42e8415b",
   "metadata": {},
   "outputs": [],
   "source": [
    "data = pd.read_excel('C:/Users/shrey/Downloads/Industrial oils.xlsx')"
   ]
  },
  {
   "cell_type": "code",
   "execution_count": 12,
   "id": "efe343d9",
   "metadata": {},
   "outputs": [
    {
     "data": {
      "text/html": [
       "<div>\n",
       "<style scoped>\n",
       "    .dataframe tbody tr th:only-of-type {\n",
       "        vertical-align: middle;\n",
       "    }\n",
       "\n",
       "    .dataframe tbody tr th {\n",
       "        vertical-align: top;\n",
       "    }\n",
       "\n",
       "    .dataframe thead th {\n",
       "        text-align: right;\n",
       "    }\n",
       "</style>\n",
       "<table border=\"1\" class=\"dataframe\">\n",
       "  <thead>\n",
       "    <tr style=\"text-align: right;\">\n",
       "      <th></th>\n",
       "      <th>Transaction</th>\n",
       "      <th>CustID</th>\n",
       "      <th>Type</th>\n",
       "      <th>Spent</th>\n",
       "    </tr>\n",
       "  </thead>\n",
       "  <tbody>\n",
       "    <tr>\n",
       "      <th>0</th>\n",
       "      <td>1</td>\n",
       "      <td>210</td>\n",
       "      <td>Turbine oils</td>\n",
       "      <td>29</td>\n",
       "    </tr>\n",
       "    <tr>\n",
       "      <th>1</th>\n",
       "      <td>2</td>\n",
       "      <td>7</td>\n",
       "      <td>Transformer oils</td>\n",
       "      <td>74</td>\n",
       "    </tr>\n",
       "    <tr>\n",
       "      <th>2</th>\n",
       "      <td>3</td>\n",
       "      <td>220</td>\n",
       "      <td>Industrial Gear oils</td>\n",
       "      <td>134</td>\n",
       "    </tr>\n",
       "    <tr>\n",
       "      <th>3</th>\n",
       "      <td>4</td>\n",
       "      <td>93</td>\n",
       "      <td>Compresor Oils</td>\n",
       "      <td>150</td>\n",
       "    </tr>\n",
       "    <tr>\n",
       "      <th>4</th>\n",
       "      <td>5</td>\n",
       "      <td>66</td>\n",
       "      <td>Compresor Oils</td>\n",
       "      <td>168</td>\n",
       "    </tr>\n",
       "    <tr>\n",
       "      <th>...</th>\n",
       "      <td>...</td>\n",
       "      <td>...</td>\n",
       "      <td>...</td>\n",
       "      <td>...</td>\n",
       "    </tr>\n",
       "    <tr>\n",
       "      <th>2995</th>\n",
       "      <td>2996</td>\n",
       "      <td>204</td>\n",
       "      <td>Compresor Oils</td>\n",
       "      <td>360</td>\n",
       "    </tr>\n",
       "    <tr>\n",
       "      <th>2996</th>\n",
       "      <td>2997</td>\n",
       "      <td>53</td>\n",
       "      <td>Compresor Oils</td>\n",
       "      <td>67</td>\n",
       "    </tr>\n",
       "    <tr>\n",
       "      <th>2997</th>\n",
       "      <td>2998</td>\n",
       "      <td>136</td>\n",
       "      <td>Hydraulic oils</td>\n",
       "      <td>27</td>\n",
       "    </tr>\n",
       "    <tr>\n",
       "      <th>2998</th>\n",
       "      <td>2999</td>\n",
       "      <td>173</td>\n",
       "      <td>Transformer oils</td>\n",
       "      <td>85</td>\n",
       "    </tr>\n",
       "    <tr>\n",
       "      <th>2999</th>\n",
       "      <td>3000</td>\n",
       "      <td>141</td>\n",
       "      <td>Transformer oils</td>\n",
       "      <td>276</td>\n",
       "    </tr>\n",
       "  </tbody>\n",
       "</table>\n",
       "<p>3000 rows × 4 columns</p>\n",
       "</div>"
      ],
      "text/plain": [
       "      Transaction  CustID                  Type  Spent\n",
       "0               1     210          Turbine oils     29\n",
       "1               2       7      Transformer oils     74\n",
       "2               3     220  Industrial Gear oils    134\n",
       "3               4      93        Compresor Oils    150\n",
       "4               5      66        Compresor Oils    168\n",
       "...           ...     ...                   ...    ...\n",
       "2995         2996     204        Compresor Oils    360\n",
       "2996         2997      53        Compresor Oils     67\n",
       "2997         2998     136        Hydraulic oils     27\n",
       "2998         2999     173      Transformer oils     85\n",
       "2999         3000     141      Transformer oils    276\n",
       "\n",
       "[3000 rows x 4 columns]"
      ]
     },
     "execution_count": 12,
     "metadata": {},
     "output_type": "execute_result"
    }
   ],
   "source": [
    "data"
   ]
  },
  {
   "cell_type": "code",
   "execution_count": 14,
   "id": "21971170",
   "metadata": {},
   "outputs": [],
   "source": [
    "mean_stats = np.mean(data[\"Spent\"])\n",
    "median_stats = np.median(data[\"Spent\"])"
   ]
  },
  {
   "cell_type": "code",
   "execution_count": 15,
   "id": "73315ed7",
   "metadata": {},
   "outputs": [
    {
     "name": "stdout",
     "output_type": "stream",
     "text": [
      "359066\n",
      "359066\n",
      "90.0\n",
      "7692.295738222225\n",
      "87.70573378190404\n"
     ]
    }
   ],
   "source": [
    "print(np.sum(data[\"Spent\"]))\n",
    "print(np.sum(data[\"Spent\"]))\n",
    "print(np.median(data[\"Spent\"]))\n",
    "print(np.var(data[\"Spent\"]))\n",
    "print(np.std(data[\"Spent\"]))"
   ]
  },
  {
   "cell_type": "code",
   "execution_count": 16,
   "id": "23ed7f43",
   "metadata": {},
   "outputs": [],
   "source": [
    "import matplotlib.pyplot as plt"
   ]
  },
  {
   "cell_type": "code",
   "execution_count": 18,
   "id": "6f4ffb09",
   "metadata": {},
   "outputs": [],
   "source": [
    "import numpy as np\n",
    "dt = np.loadtxt('C:/Users/shrey/Downloads/Industrial oils.csv', delimiter = \",\",dtype=\"str\")"
   ]
  },
  {
   "cell_type": "code",
   "execution_count": 19,
   "id": "6feea7c7",
   "metadata": {},
   "outputs": [
    {
     "data": {
      "text/plain": [
       "array([['Transaction', 'CustID', 'Type', 'Spent'],\n",
       "       ['1', '210', 'Turbine oils', '29'],\n",
       "       ['2', '7', 'Transformer oils', '74'],\n",
       "       ...,\n",
       "       ['2998', '136', 'Hydraulic oils', '27'],\n",
       "       ['2999', '173', 'Transformer oils', '85'],\n",
       "       ['3000', '141', 'Transformer oils', '276']], dtype='<U20')"
      ]
     },
     "execution_count": 19,
     "metadata": {},
     "output_type": "execute_result"
    }
   ],
   "source": [
    "dt"
   ]
  },
  {
   "cell_type": "code",
   "execution_count": 23,
   "id": "79572334",
   "metadata": {},
   "outputs": [
    {
     "data": {
      "image/png": "[encoded data removed]",
      "text/plain": [
       "<Figure size 432x288 with 1 Axes>"
      ]
     },
     "metadata": {
      "needs_background": "light"
     },
     "output_type": "display_data"
    }
   ],
   "source": [
    "for i in dt.T:\n",
    "  plt.plot(dt[:,0], i)\n",
    "plt.show()"
   ]
  },
  {
   "cell_type": "code",
   "execution_count": null,
   "id": "9f2ab108",
   "metadata": {},
   "outputs": [],
   "source": []
  }
 ],
 "metadata": {
  "kernelspec": {
   "display_name": "Python 3",
   "language": "python",
   "name": "python3"
  },
  "language_info": {
   "codemirror_mode": {
    "name": "ipython",
    "version": 3
   },
   "file_extension": ".py",
   "mimetype": "text/x-python",
   "name": "python",
   "nbconvert_exporter": "python",
   "pygments_lexer": "ipython3",
   "version": "3.8.8"
  }
 },
 "nbformat": 4,
 "nbformat_minor": 5
}
