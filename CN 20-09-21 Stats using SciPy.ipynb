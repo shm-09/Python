{
 "cells": [
  {
   "cell_type": "code",
   "execution_count": 1,
   "id": "e19a51e3",
   "metadata": {},
   "outputs": [],
   "source": [
    "import numpy as np\n",
    "import pandas as pd\n",
    "import scipy.stats"
   ]
  },
  {
   "cell_type": "code",
   "execution_count": 6,
   "id": "1d701192",
   "metadata": {},
   "outputs": [
    {
     "data": {
      "text/plain": [
       "(0.7783293747263165, 0.008004925742271197)"
      ]
     },
     "execution_count": 6,
     "metadata": {},
     "output_type": "execute_result"
    }
   ],
   "source": [
    "x = np.array([100, 200, 300, 400, 500, 550, 600, 300, 450, 1000])\n",
    "\n",
    "y = np.array([8, 16, 30, 40, 50, 45, 55, 65, 70, 80])\n",
    "\n",
    "scipy.stats.pearsonr(x, y)\n"
   ]
  },
  {
   "cell_type": "code",
   "execution_count": 7,
   "id": "eb870d01",
   "metadata": {},
   "outputs": [
    {
     "data": {
      "text/plain": [
       "0.008004925742271199"
      ]
     },
     "execution_count": 7,
     "metadata": {},
     "output_type": "execute_result"
    }
   ],
   "source": [
    "result = scipy.stats.linregress(x, y)\n",
    "result.intercept\n",
    "result.slope\n",
    "result.rvalue\n",
    "result.pvalue"
   ]
  },
  {
   "cell_type": "code",
   "execution_count": 8,
   "id": "19a69549",
   "metadata": {},
   "outputs": [
    {
     "name": "stdout",
     "output_type": "stream",
     "text": [
      "14.357644991212652\n",
      "0.0716871704745167\n",
      "0.7783293747263165\n",
      "0.008004925742271199\n"
     ]
    }
   ],
   "source": [
    "print(result.intercept)\n",
    "print(result.slope)\n",
    "print(result.rvalue)\n",
    "print(result.pvalue)"
   ]
  },
  {
   "cell_type": "code",
   "execution_count": null,
   "id": "4341b3cb",
   "metadata": {},
   "outputs": [],
   "source": []
  }
 ],
 "metadata": {
  "kernelspec": {
   "display_name": "Python 3",
   "language": "python",
   "name": "python3"
  },
  "language_info": {
   "codemirror_mode": {
    "name": "ipython",
    "version": 3
   },
   "file_extension": ".py",
   "mimetype": "text/x-python",
   "name": "python",
   "nbconvert_exporter": "python",
   "pygments_lexer": "ipython3",
   "version": "3.8.8"
  }
 },
 "nbformat": 4,
 "nbformat_minor": 5
}
